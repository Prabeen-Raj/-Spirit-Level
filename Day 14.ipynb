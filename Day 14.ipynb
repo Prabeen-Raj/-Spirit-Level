{
  "nbformat": 4,
  "nbformat_minor": 0,
  "metadata": {
    "colab": {
      "name": "Day 14.ipynb",
      "provenance": [],
      "authorship_tag": "ABX9TyNDXZXML/vzzdJHlUMg3YJt",
      "include_colab_link": true
    },
    "kernelspec": {
      "name": "python3",
      "display_name": "Python 3"
    },
    "language_info": {
      "name": "python"
    }
  },
  "cells": [
    {
      "cell_type": "markdown",
      "metadata": {
        "id": "view-in-github",
        "colab_type": "text"
      },
      "source": [
        "<a href=\"https://colab.research.google.com/github/Prabeen-Raj/-Spirit-Level/blob/master/Day%2014.ipynb\" target=\"_parent\"><img src=\"https://colab.research.google.com/assets/colab-badge.svg\" alt=\"Open In Colab\"/></a>"
      ]
    },
    {
      "cell_type": "code",
      "metadata": {
        "id": "2mVCDfAv7CBZ"
      },
      "source": [
        "newList = [1,2,3,4,5]"
      ],
      "execution_count": 7,
      "outputs": []
    },
    {
      "cell_type": "code",
      "metadata": {
        "id": "Uby-gaon7OqZ"
      },
      "source": [
        "def swapList(newList):\n",
        "    size = len(newList)\n",
        "     \n",
        "  \n",
        "    temp = newList[0]\n",
        "    newList[0] = newList[size - 1]\n",
        "    newList[size - 1] = temp\n",
        "     \n",
        "    return newList\n",
        "     "
      ],
      "execution_count": 8,
      "outputs": []
    },
    {
      "cell_type": "code",
      "metadata": {
        "colab": {
          "base_uri": "https://localhost:8080/"
        },
        "id": "IqSkFy0K8P1V",
        "outputId": "46ace6b3-0c42-441c-f732-1e04e371bee5"
      },
      "source": [
        "print(swapList(newList))"
      ],
      "execution_count": 9,
      "outputs": [
        {
          "output_type": "stream",
          "name": "stdout",
          "text": [
            "[5, 2, 3, 4, 1]\n"
          ]
        }
      ]
    },
    {
      "cell_type": "code",
      "metadata": {
        "id": "0RPCGPQI9x5G"
      },
      "source": [
        "import random"
      ],
      "execution_count": 10,
      "outputs": []
    },
    {
      "cell_type": "code",
      "metadata": {
        "colab": {
          "base_uri": "https://localhost:8080/"
        },
        "id": "i5YPrXy7-Oix",
        "outputId": "eb609df5-5b6e-4b10-dffd-e786418d375e"
      },
      "source": [
        "\n",
        "print(random.randint(0,10))"
      ],
      "execution_count": 13,
      "outputs": [
        {
          "output_type": "stream",
          "name": "stdout",
          "text": [
            "4\n"
          ]
        }
      ]
    },
    {
      "cell_type": "code",
      "metadata": {
        "colab": {
          "base_uri": "https://localhost:8080/"
        },
        "id": "06omkahx-XTq",
        "outputId": "be386372-907d-4776-9ac1-f7d4ebfea0c3"
      },
      "source": [
        "for i in range(10):\n",
        "  print(random.randint(0,10))"
      ],
      "execution_count": 14,
      "outputs": [
        {
          "output_type": "stream",
          "name": "stdout",
          "text": [
            "6\n",
            "7\n",
            "9\n",
            "8\n",
            "6\n",
            "9\n",
            "5\n",
            "9\n",
            "9\n",
            "2\n"
          ]
        }
      ]
    },
    {
      "cell_type": "code",
      "metadata": {
        "colab": {
          "base_uri": "https://localhost:8080/"
        },
        "id": "_Cg5w7ID-b9S",
        "outputId": "d9eec36b-ffb8-4f17-ccb2-0fa1a26ccdea"
      },
      "source": [
        "list1 = []\n",
        "for i in range(10):\n",
        "  list1.append(random.randint(0,10))\n",
        "print(list1)  "
      ],
      "execution_count": 15,
      "outputs": [
        {
          "output_type": "stream",
          "name": "stdout",
          "text": [
            "[4, 8, 8, 4, 2, 10, 10, 1, 2, 5]\n"
          ]
        }
      ]
    },
    {
      "cell_type": "code",
      "metadata": {
        "colab": {
          "base_uri": "https://localhost:8080/"
        },
        "id": "doKmrYQM-rIy",
        "outputId": "3f24c407-d077-43b2-98d8-f85739f202e8"
      },
      "source": [
        "set1 = set()\n",
        "for i in range(20):\n",
        "  set1.add(random.randint(0,10))\n",
        "\n",
        "print(set1)\n",
        "\n"
      ],
      "execution_count": 17,
      "outputs": [
        {
          "output_type": "stream",
          "name": "stdout",
          "text": [
            "{0, 1, 2, 3, 4, 6, 7, 8, 9, 10}\n"
          ]
        }
      ]
    },
    {
      "cell_type": "code",
      "metadata": {
        "colab": {
          "base_uri": "https://localhost:8080/"
        },
        "id": "La2yTeM--6WX",
        "outputId": "46343cf2-31fb-4265-c34a-388ee929db20"
      },
      "source": [
        "pip install colorama"
      ],
      "execution_count": 18,
      "outputs": [
        {
          "output_type": "stream",
          "name": "stdout",
          "text": [
            "Collecting colorama\n",
            "  Downloading colorama-0.4.4-py2.py3-none-any.whl (16 kB)\n",
            "Installing collected packages: colorama\n",
            "Successfully installed colorama-0.4.4\n"
          ]
        }
      ]
    },
    {
      "cell_type": "code",
      "metadata": {
        "colab": {
          "base_uri": "https://localhost:8080/"
        },
        "id": "9tlqTfc5_UuO",
        "outputId": "a4281fed-1df1-4c1c-9f97-13bbd73d47c3"
      },
      "source": [
        "from colorama import init\n",
        "from termcolor import colored\n",
        "\n",
        "init()\n",
        " \n",
        "print(colored('Hello, World!', 'green', 'on_red'))"
      ],
      "execution_count": 21,
      "outputs": [
        {
          "output_type": "stream",
          "name": "stdout",
          "text": [
            "Hello, World!\n"
          ]
        }
      ]
    },
    {
      "cell_type": "code",
      "metadata": {
        "colab": {
          "base_uri": "https://localhost:8080/"
        },
        "id": "szzwnUIyAGMg",
        "outputId": "8d127c50-b794-401b-9663-2b4cafc40900"
      },
      "source": [
        "pip install slowprint"
      ],
      "execution_count": 22,
      "outputs": [
        {
          "output_type": "stream",
          "name": "stdout",
          "text": [
            "Collecting slowprint\n",
            "  Downloading slowprint-0.0.1.tar.gz (1.6 kB)\n",
            "Building wheels for collected packages: slowprint\n",
            "  Building wheel for slowprint (setup.py) ... \u001b[?25l\u001b[?25hdone\n",
            "  Created wheel for slowprint: filename=slowprint-0.0.1-py3-none-any.whl size=1756 sha256=1222f3f648bc23912bcb1702b77ce5b46425e6c47715d73a8fe94b2c83768929\n",
            "  Stored in directory: /root/.cache/pip/wheels/93/85/02/8ab453f70bd3488ef4ec50eca9595b14f55b900d2925f0f72c\n",
            "Successfully built slowprint\n",
            "Installing collected packages: slowprint\n",
            "Successfully installed slowprint-0.0.1\n"
          ]
        }
      ]
    },
    {
      "cell_type": "code",
      "metadata": {
        "colab": {
          "base_uri": "https://localhost:8080/"
        },
        "id": "lF2nOmykAJw0",
        "outputId": "80b303f5-3594-456d-ed39-d67a6539bcb8"
      },
      "source": [
        "from slowprint.slowprint import *\n",
        "slowprint(\"Hello Everyone\", 0.1)"
      ],
      "execution_count": 23,
      "outputs": [
        {
          "output_type": "stream",
          "name": "stdout",
          "text": [
            "Hello Everyone\n"
          ]
        }
      ]
    },
    {
      "cell_type": "code",
      "metadata": {
        "colab": {
          "base_uri": "https://localhost:8080/"
        },
        "id": "OWKAjRMn_uqV",
        "outputId": "7a6d831c-3928-4b6b-da52-b98811fd9a02"
      },
      "source": [
        "pip install pyjokes"
      ],
      "execution_count": 24,
      "outputs": [
        {
          "output_type": "stream",
          "name": "stdout",
          "text": [
            "Collecting pyjokes\n",
            "  Downloading pyjokes-0.6.0-py2.py3-none-any.whl (26 kB)\n",
            "Installing collected packages: pyjokes\n",
            "Successfully installed pyjokes-0.6.0\n"
          ]
        }
      ]
    },
    {
      "cell_type": "code",
      "metadata": {
        "colab": {
          "base_uri": "https://localhost:8080/"
        },
        "id": "-5gXO8SuAfAr",
        "outputId": "0ae569bf-563b-42f4-9fd9-ae33b17fbdcf"
      },
      "source": [
        "import pyjokes\n",
        "import time\n",
        "  \n",
        "My_joke = pyjokes.get_joke(language=\"en\", category=\"neutral\")\n",
        "\n",
        "print(My_joke)\n"
      ],
      "execution_count": 27,
      "outputs": [
        {
          "output_type": "stream",
          "name": "stdout",
          "text": [
            "!false, (It's funny because it's true)\n"
          ]
        }
      ]
    },
    {
      "cell_type": "code",
      "metadata": {
        "id": "xzwtR5E5AmlQ"
      },
      "source": [
        ""
      ],
      "execution_count": null,
      "outputs": []
    }
  ]
}