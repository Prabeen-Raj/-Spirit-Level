{
  "nbformat": 4,
  "nbformat_minor": 0,
  "metadata": {
    "colab": {
      "name": "Day 23.ipynb",
      "provenance": [],
      "authorship_tag": "ABX9TyNi/Vp4jWOALdd62pGhHfFd",
      "include_colab_link": true
    },
    "kernelspec": {
      "name": "python3",
      "display_name": "Python 3"
    },
    "language_info": {
      "name": "python"
    }
  },
  "cells": [
    {
      "cell_type": "markdown",
      "metadata": {
        "id": "view-in-github",
        "colab_type": "text"
      },
      "source": [
        "<a href=\"https://colab.research.google.com/github/Prabeen-Raj/-Spirit-Level/blob/master/Day%2023.ipynb\" target=\"_parent\"><img src=\"https://colab.research.google.com/assets/colab-badge.svg\" alt=\"Open In Colab\"/></a>"
      ]
    },
    {
      "cell_type": "code",
      "metadata": {
        "colab": {
          "base_uri": "https://localhost:8080/"
        },
        "id": "XruidJ5awB2r",
        "outputId": "1a8001fd-e0a2-44ea-c997-fce7d9a1a7a0"
      },
      "source": [
        "def remove_duplicate(your_str):\n",
        "   result = ''\n",
        "   for char in your_str:\n",
        "       if char not in result:\n",
        "           result += char\n",
        "   return result\n",
        " \n",
        "user_input = input('what is your string:')\n",
        " \n",
        "no_duplicate = remove_duplicate(user_input)\n",
        "print('Without duplicate: ', no_duplicate)\n"
      ],
      "execution_count": 1,
      "outputs": [
        {
          "output_type": "stream",
          "name": "stdout",
          "text": [
            "what is your string:hello\n",
            "Without duplicate:  helo\n"
          ]
        }
      ]
    },
    {
      "cell_type": "code",
      "metadata": {
        "colab": {
          "base_uri": "https://localhost:8080/"
        },
        "id": "B20JCjsBwpZk",
        "outputId": "56f366ec-e5b4-4761-f86c-d1125e1648fd"
      },
      "source": [
        "def get_sum(nums):\n",
        "   sum = 0\n",
        "   for num in nums:\n",
        "       sum = sum + num\n",
        "   return sum\n",
        " \n",
        " \n",
        "nums = [13,89,65,42,12,11,56]\n",
        " \n",
        "total = get_sum(nums)\n",
        "print(\"The total of each elements:\",total)"
      ],
      "execution_count": 3,
      "outputs": [
        {
          "output_type": "stream",
          "name": "stdout",
          "text": [
            "The total of each elements: 288\n"
          ]
        }
      ]
    },
    {
      "cell_type": "code",
      "metadata": {
        "id": "H1-TrcK9xBb4",
        "outputId": "2beac732-b615-4eba-d683-32cb012ec5c1",
        "colab": {
          "base_uri": "https://localhost:8080/"
        }
      },
      "source": [
        "def square_sum(num) :\n",
        "    sum = 0\n",
        "    for i in range(num+1) :\n",
        "        square = (i ** 2)\n",
        "        sum = sum + square\n",
        "    \n",
        "    return sum\n",
        "\n",
        "num = int(input('Enter a number: '))\n",
        "sum = square_sum(num)\n",
        "\n",
        "print('sum of square numbers is ', sum)\n"
      ],
      "execution_count": 4,
      "outputs": [
        {
          "output_type": "stream",
          "name": "stdout",
          "text": [
            "Enter a number: 2\n",
            "sum of square numbers is  5\n"
          ]
        }
      ]
    },
    {
      "cell_type": "code",
      "metadata": {
        "id": "dTJmJ3JFxGon",
        "outputId": "dc4b473d-59d5-41d4-8e60-3b8b0059b926",
        "colab": {
          "base_uri": "https://localhost:8080/"
        }
      },
      "source": [
        "import random\n",
        "import string\n",
        " \n",
        "def randomPassword(size):\n",
        "\tall_chars = string.ascii_letters + string.digits + string.punctuation\n",
        "\tpassword = \"\"\n",
        "\tpassword += random.choice(string.ascii_lowercase)\n",
        "\tpassword += random.choice(string.ascii_uppercase)\n",
        "\tpassword += random.choice(string.digits)\n",
        "\tpassword += random.choice(string.punctuation)\n",
        "\t\n",
        "\tfor i in range(size-4):\n",
        "\t\tpassword += random.choice(all_chars)\n",
        "\treturn password\n",
        " \n",
        "pass_len = int(input(\"What would be the password length? \"))\n",
        "print (\"First Random Password is:\", randomPassword(pass_len))\n",
        "print (\"Second Random Password is:\", randomPassword(pass_len))\n",
        "print (\"Third Random Password is:\", randomPassword(pass_len))"
      ],
      "execution_count": 5,
      "outputs": [
        {
          "output_type": "stream",
          "name": "stdout",
          "text": [
            "What would be the password length? 8\n",
            "First Random Password is: tW6<7WYH\n",
            "Second Random Password is: aG9,\\aMQ\n",
            "Third Random Password is: lF6_CST}\n"
          ]
        }
      ]
    },
    {
      "cell_type": "code",
      "metadata": {
        "id": "c6cOPfUpxXFL",
        "outputId": "fb4f1c6e-abaf-4bbd-fc73-29ab4fb48560",
        "colab": {
          "base_uri": "https://localhost:8080/"
        }
      },
      "source": [
        "def add(num1, num2):\n",
        " return num1 + num2\n",
        " \n",
        "def subtract(num1, num2):\n",
        " return num1 - num2\n",
        " \n",
        "def multiply(num1, num2):\n",
        " return num1 * num2\n",
        " \n",
        "def divide(num1, num2):\n",
        " return num1 / num2\n",
        " \n",
        "def modulo(num1, num2):\n",
        " return num1 % num2\n",
        " \n",
        "# Take input from the user\n",
        "num1 = int(input(\"Enter first number: \"))\n",
        "operation = input(\"What you want to do(+, -, *, /, %):\")\n",
        "num2 = int(input(\"Enter second number: \"))\n",
        " \n",
        "result = 0\n",
        "if operation == '+':\n",
        " result = add(num1,num2)\n",
        "elif operation == '-':\n",
        " result = subtract(num1,num2)\n",
        "elif operation == '*':\n",
        " result = multiply(num1,num2)\n",
        "elif operation == '/':\n",
        " result = divide(num1,num2)\n",
        "elif operation == '%':\n",
        " result = modulo(num1,num2)\n",
        "else:\n",
        " print(\"Please enter: +, -, *, / or %\")\n",
        " \n",
        "print(num1, operation, num2, '=', result)\n"
      ],
      "execution_count": 6,
      "outputs": [
        {
          "output_type": "stream",
          "name": "stdout",
          "text": [
            "Enter first number: 2\n",
            "What you want to do(+, -, *, /, %):+\n",
            "Enter second number: 2\n",
            "2 + 2 = 4\n"
          ]
        }
      ]
    },
    {
      "cell_type": "code",
      "metadata": {
        "id": "q4V31L3ExdML",
        "outputId": "3913f89d-da4c-49a6-f0c5-1c01879f1b67",
        "colab": {
          "base_uri": "https://localhost:8080/"
        }
      },
      "source": [
        "def is_prime(num):\n",
        "   for i in range(2,num):\n",
        "       if (num % i) == 0:\n",
        "           return False\n",
        "   return True\n",
        "\n",
        "\n",
        "num = int(input(\"Enter a number: \"))\n",
        "\n",
        "check_prime = is_prime(num)\n",
        "\n",
        "if check_prime:\n",
        "   print(num,'is a Prime Number')\n",
        "else:\n",
        "   print(num,'is not a Prime Number')"
      ],
      "execution_count": 10,
      "outputs": [
        {
          "output_type": "stream",
          "name": "stdout",
          "text": [
            "Enter a number: 11\n",
            "11 is a Prime Number\n"
          ]
        }
      ]
    }
  ]
}